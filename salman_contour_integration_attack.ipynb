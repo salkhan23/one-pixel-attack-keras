{
 "cells": [
  {
   "cell_type": "code",
   "execution_count": null,
   "metadata": {
    "collapsed": false
   },
   "outputs": [],
   "source": [
    "from __future__ import division, print_function, absolute_import\n",
    "import pickle\n",
    "import numpy as np\n",
    "\n",
    "import keras.backend as K\n",
    "from keras.preprocessing.image import load_img, img_to_array\n",
    "from keras.applications.imagenet_utils import decode_predictions, preprocess_input\n",
    "\n",
    "from attack import PixelAttacker\n",
    "\n",
    "import networks.alex_net_cont_int_model as contour_integration_module"
   ]
  },
  {
   "cell_type": "code",
   "execution_count": null,
   "metadata": {
    "collapsed": false
   },
   "outputs": [],
   "source": [
    "# Load the model\n",
    "K.set_image_dim_ordering('th')\n",
    "model = contour_integration_module.build_full_contour_integration_model('./networks/models/fake_full_model_weights.hf')\n"
   ]
  },
  {
   "cell_type": "code",
   "execution_count": null,
   "metadata": {
    "collapsed": true
   },
   "outputs": [],
   "source": [
    "# Make a dictionary that maps the name of the class (in like real english) to the index\n",
    "with open('data/imagenet_classes.pkl', 'rb') as f:\n",
    "    class_names = pickle.load(f)\n",
    "word_to_class = {w:i for i,w in enumerate(class_names)}"
   ]
  },
  {
   "cell_type": "code",
   "execution_count": null,
   "metadata": {
    "collapsed": false
   },
   "outputs": [],
   "source": [
    "# Load Some Test Images\n",
    "fnames = ('data/ILSVRC2012_val_00001036.JPEG', 'data/ILSVRC2012_val_00000655.JPEG', \n",
    "          'data/ILSVRC2012_val_00009401.JPEG', 'data/ILSVRC2012_val_00000962.JPEG', \n",
    "          'data/ILSVRC2012_val_00000911.JPEG', 'data/ILSVRC2012_val_00000329.JPEG', \n",
    "          'data/ILSVRC2012_val_00002138.JPEG', 'data/ILSVRC2012_val_00000293.JPEG')\n",
    "names = ('wallaby, brush kangaroo', 'wallaby, brush kangaroo', \n",
    "         'water ouzel, dipper', 'water ouzel, dipper', \n",
    "         'cock', 'cock', \n",
    "         'tench, Tinca tinca', 'tench, Tinca tinca')\n",
    "\n",
    "images = []\n",
    "labels = []\n",
    "for fname,name in zip(fnames,names):\n",
    "    img = load_img(fname, target_size=(227, 227))\n",
    "    x = img_to_array(img, data_format='channels_first')\n",
    "    images.append(x)\n",
    "    labels.append([word_to_class[name]])\n",
    "    \n",
    "images = np.array(images)\n",
    "labels = np.array(labels)"
   ]
  },
  {
   "cell_type": "code",
   "execution_count": null,
   "metadata": {
    "collapsed": false
   },
   "outputs": [],
   "source": [
    "# Test Predictions of the Model(Should be garbage @ this point)\n",
    "# --------------------------------------------------------------\n",
    "\n",
    "# Normalize ImageNet Images\n",
    "processed_images = preprocess_input(images.copy(), data_format='channels_first')\n"
   ]
  },
  {
   "cell_type": "code",
   "execution_count": null,
   "metadata": {
    "collapsed": false
   },
   "outputs": [],
   "source": [
    "# Single Image Prediction\n",
    "prediction = model.predict(np.expand_dims(processed_images[0, ], axis=0))\n",
    "decode_predictions(prediction)\n"
   ]
  },
  {
   "cell_type": "code",
   "execution_count": null,
   "metadata": {
    "collapsed": false
   },
   "outputs": [],
   "source": [
    "# Batch Predictions \n",
    "prediction = model.predict_on_batch(images)\n",
    "decode_predictions(prediction)"
   ]
  },
  {
   "cell_type": "code",
   "execution_count": null,
   "metadata": {
    "collapsed": true
   },
   "outputs": [],
   "source": [
    "# Create Some Test Images"
   ]
  }
 ],
 "metadata": {
  "kernelspec": {
   "display_name": "Python 2",
   "language": "python",
   "name": "python2"
  },
  "language_info": {
   "codemirror_mode": {
    "name": "ipython",
    "version": 2
   },
   "file_extension": ".py",
   "mimetype": "text/x-python",
   "name": "python",
   "nbconvert_exporter": "python",
   "pygments_lexer": "ipython2",
   "version": "2.7.12"
  }
 },
 "nbformat": 4,
 "nbformat_minor": 0
}
