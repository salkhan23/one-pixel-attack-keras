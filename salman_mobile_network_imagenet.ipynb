{
 "cells": [
  {
   "cell_type": "code",
   "execution_count": null,
   "metadata": {
    "collapsed": false
   },
   "outputs": [],
   "source": [
    "from __future__ import division, print_function, absolute_import\n",
    "import pickle\n",
    "import numpy as np\n",
    "import pandas as pd\n",
    "import matplotlib\n",
    "import matplotlib.pyplot as plt\n",
    "import os\n",
    "import keras\n",
    "from keras import backend as K\n",
    "from keras.preprocessing.image import load_img, img_to_array\n",
    "from keras.applications.imagenet_utils import decode_predictions, preprocess_input\n",
    "\n",
    "from keras.applications.mobilenet import decode_predictions as mobilenet_decode_predictions\n",
    "from keras.applications.mobilenet import preprocess_input as mobilenet_preprocess_input\n",
    "\n",
    "# Helper functions\n",
    "import helper\n",
    "from attack import PixelAttacker\n",
    "\n",
    "%matplotlib inline\n",
    "matplotlib.style.use('ggplot')\n",
    "np.random.seed(100)"
   ]
  },
  {
   "cell_type": "code",
   "execution_count": null,
   "metadata": {
    "collapsed": false,
    "scrolled": true
   },
   "outputs": [],
   "source": [
    "# Load the Model\n",
    "model = keras.applications.MobileNet()"
   ]
  },
  {
   "cell_type": "code",
   "execution_count": null,
   "metadata": {
    "collapsed": true
   },
   "outputs": [],
   "source": [
    "# Make a dictionary that maps the name of the class (in like real english) to the index\n",
    "with open('data/imagenet_classes.pkl', 'rb') as f:\n",
    "    class_names = pickle.load(f)\n",
    "word_to_class = {w:i for i,w in enumerate(class_names)}"
   ]
  },
  {
   "cell_type": "code",
   "execution_count": null,
   "metadata": {
    "collapsed": true
   },
   "outputs": [],
   "source": [
    "# # Load Some Test Images\n",
    "# fnames = (\n",
    "#     'data/ILSVRC2012_val_00001036.JPEG', \n",
    "#     'data/ILSVRC2012_val_00000655.JPEG', \n",
    "#     'data/ILSVRC2012_val_00009401.JPEG', \n",
    "#     'data/ILSVRC2012_val_00000962.JPEG', \n",
    "#     'data/ILSVRC2012_val_00000911.JPEG', \n",
    "#     'data/ILSVRC2012_val_00000329.JPEG', \n",
    "#     'data/ILSVRC2012_val_00002138.JPEG', \n",
    "#     'data/ILSVRC2012_val_00000293.JPEG',\n",
    "#     'data/balloon.jpg'\n",
    "# )\n",
    "# names = (\n",
    "    \n",
    "#     'wallaby, brush kangaroo', \n",
    "#     'wallaby, brush kangaroo', \n",
    "#     'water ouzel, dipper', \n",
    "#     'water ouzel, dipper', \n",
    "#     'cock', \n",
    "#     'cock', \n",
    "#     'tench, Tinca tinca', \n",
    "#     'tench, Tinca tinca',\n",
    "#     'balloon'\n",
    "# )\n",
    "\n",
    "# images = []\n",
    "# labels = []\n",
    "\n",
    "# for fname,name in zip(fnames,names):\n",
    "#     img = load_img(fname, target_size=(224, 224))\n",
    "#     x = img_to_array(img, data_format='channels_last')\n",
    "#     images.append(x)\n",
    "#     labels.append([word_to_class[name]])\n",
    "    \n",
    "# images = np.array(images)\n",
    "# labels = np.array(labels)"
   ]
  },
  {
   "cell_type": "code",
   "execution_count": null,
   "metadata": {
    "collapsed": false
   },
   "outputs": [],
   "source": [
    "# New Sample Images Folder\n",
    "with open('data/sample_images/data_key.pickle', 'rb') as handle:\n",
    "    data_key = pickle.load(handle)\n",
    "\n",
    "fnames = sorted(data_key.keys())\n",
    "\n",
    "names = [data_key[fname][1] for fname in fnames]\n",
    "        \n",
    "images = []\n",
    "labels = []\n",
    "\n",
    "for fname,name in zip(fnames,names):\n",
    "    img = load_img(os.path.join(\"data/sample_images\", fname), target_size=(224, 224))\n",
    "    x = img_to_array(img, data_format='channels_last')\n",
    "    images.append(x)\n",
    "    labels.append([word_to_class[name]])\n",
    "    \n",
    "images = np.array(images)\n",
    "labels = np.array(labels)"
   ]
  },
  {
   "cell_type": "code",
   "execution_count": null,
   "metadata": {
    "collapsed": false
   },
   "outputs": [],
   "source": [
    "# Normalize ImageNet Images\n",
    "#processed_images = preprocess_input(images.copy(), data_format='channels_last')\n",
    "\n",
    "processed_images = mobilenet_preprocess_input(images.copy(), data_format='channels_last')\n",
    "print(\"It is import to use the correct preprocessing function for the model\")\n",
    "\n",
    "print(\"Processed Images shape {}, min {}, max {}\".format(\n",
    "        processed_images.shape, np.min(processed_images), np.max(processed_images)))"
   ]
  },
  {
   "cell_type": "code",
   "execution_count": null,
   "metadata": {
    "collapsed": false
   },
   "outputs": [],
   "source": [
    "# Single Image Prediction\n",
    "target_imd_idx = 5\n",
    "print(\"True label {}\".format(names[target_imd_idx]))\n",
    "\n",
    "prediction = model.predict(np.expand_dims(processed_images[target_imd_idx, ], axis=0))\n",
    "helper.plot_image(images[target_imd_idx,])\n",
    "\n",
    "decode_predictions(prediction)"
   ]
  },
  {
   "cell_type": "code",
   "execution_count": null,
   "metadata": {
    "collapsed": false
   },
   "outputs": [],
   "source": [
    "# Evaluate model accuracy over the whole dataset\n",
    "models = [model]\n",
    "\n",
    "network_stats, correct_imgs = helper.evaluate_models(models, processed_images, labels)\n",
    "\n",
    "correct_imgs = pd.DataFrame(correct_imgs, columns=['name', 'img', 'label', 'confidence', 'pred'])\n",
    "network_stats = pd.DataFrame(network_stats, columns=['name', 'accuracy', 'param_count'])\n",
    "\n",
    "network_stats"
   ]
  },
  {
   "cell_type": "code",
   "execution_count": null,
   "metadata": {
    "collapsed": false
   },
   "outputs": [],
   "source": [
    "# Set up the attacker \n",
    "models = [model]\n",
    "\n",
    "# The data set we will try to attack\n",
    "test_tuple = (processed_images, labels)\n",
    "\n",
    "attacker = PixelAttacker(models, test_tuple, class_names, dimensions=(224,224))"
   ]
  },
  {
   "cell_type": "code",
   "execution_count": null,
   "metadata": {
    "collapsed": false
   },
   "outputs": [],
   "source": [
    "# Single Image Attack\n",
    "result = attacker.attack(target_imd_idx, model, maxiter=75, verbose=True)"
   ]
  },
  {
   "cell_type": "code",
   "execution_count": null,
   "metadata": {
    "collapsed": false,
    "scrolled": true
   },
   "outputs": [],
   "source": [
    "# Decode the Results\n",
    "print(\"Was Attack successful {}. Modified pixel {}\".format(result[5], result[-1]))\n",
    "print(\"True Class ({}:{}), Final Predicted class ({}:{})\".format(\n",
    "    result[3], class_names[result[3]], result[4], class_names[result[4]]))\n",
    "print(\"Drop in confidence in true class {}\".format(result[6]))"
   ]
  },
  {
   "cell_type": "code",
   "execution_count": null,
   "metadata": {
    "collapsed": false
   },
   "outputs": [],
   "source": [
    "# Show the difference between start and stop image\n",
    "changed_pixel = result[-1]\n",
    "attack_image = helper.perturb_image(changed_pixel, processed_images[target_imd_idx,])[0]\n",
    "\n",
    "true_class = labels[target_imd_idx, 0]\n",
    "\n",
    "prior_confidence = model.predict(np.expand_dims(processed_images[target_imd_idx, ], axis=0))[0][true_class]\n",
    "post_confidence = model.predict(np.expand_dims(attack_image, axis=0))[0][true_class]\n",
    "\n",
    "success = attacker.attack_success(\n",
    "    changed_pixel, processed_images[target_imd_idx, ], true_class, model, verbose=True)\n",
    "\n",
    "print('Prior confidence {}, After Attack confidence {}. Attack was sucssful {}'.format(\n",
    "        prior_confidence, post_confidence, success == True))\n",
    "# helper.plot_image(attack_image)\n",
    "\n",
    "new_image= (attack_image - attack_image.min())/ (attack_image.max() - attack_image.min())*255.0\n",
    "helper.plot_image(new_image)"
   ]
  },
  {
   "cell_type": "code",
   "execution_count": null,
   "metadata": {
    "collapsed": false
   },
   "outputs": [],
   "source": [
    "from datetime import datetime\n",
    "# The full attack\n",
    "start_time = datetime.now()\n",
    "untargeted = attacker.attack_all(models, samples=100, targeted=False)\n",
    "print(\"Processing took {}\".format(datetime.now() - start_time))"
   ]
  },
  {
   "cell_type": "code",
   "execution_count": null,
   "metadata": {
    "collapsed": false
   },
   "outputs": [],
   "source": [
    "print(untargeted)"
   ]
  },
  {
   "cell_type": "code",
   "execution_count": null,
   "metadata": {
    "collapsed": false
   },
   "outputs": [],
   "source": [
    "# Load the results\n",
    "untargeted, targeted = helper.load_results()"
   ]
  },
  {
   "cell_type": "code",
   "execution_count": null,
   "metadata": {
    "collapsed": true
   },
   "outputs": [],
   "source": [
    "columns = ['model', 'pixels', 'image', 'true', 'predicted', 'success', 'cdiff', 'prior_probs', 'predicted_probs', 'perturbation']\n",
    "untargeted_results = pd.DataFrame(untargeted, columns=columns)\n",
    "#targeted_results = pd.DataFrame(targeted, columns=columns)"
   ]
  },
  {
   "cell_type": "code",
   "execution_count": null,
   "metadata": {
    "collapsed": false
   },
   "outputs": [],
   "source": [
    "helper.attack_stats(untargeted_results, models, network_stats)"
   ]
  }
 ],
 "metadata": {
  "kernelspec": {
   "display_name": "Python 2",
   "language": "python",
   "name": "python2"
  },
  "language_info": {
   "codemirror_mode": {
    "name": "ipython",
    "version": 2
   },
   "file_extension": ".py",
   "mimetype": "text/x-python",
   "name": "python",
   "nbconvert_exporter": "python",
   "pygments_lexer": "ipython2",
   "version": "2.7.12"
  }
 },
 "nbformat": 4,
 "nbformat_minor": 0
}
